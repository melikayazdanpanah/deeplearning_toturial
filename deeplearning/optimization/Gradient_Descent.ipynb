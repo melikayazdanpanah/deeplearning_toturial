{
 "cells": [
  {
   "cell_type": "markdown",
   "metadata": {},
   "source": [
    "gradien descent"
   ]
  },
  {
   "cell_type": "code",
   "execution_count": 1,
   "metadata": {},
   "outputs": [],
   "source": [
    "#define gradient function for f(x) = x^2\n",
    "import numpy as np\n",
    "def gradient(x):\n",
    "    return 2 * x"
   ]
  },
  {
   "cell_type": "code",
   "execution_count": 2,
   "metadata": {},
   "outputs": [],
   "source": [
    "def gradient_descent(gradient , start , learn_rate , n_iter=50, tolerance=1e-06):\n",
    "    #tolerance = stop the algorithm \n",
    "    vector = start\n",
    "    for _ in range (n_iter):\n",
    "        diff = -learn_rate * gradient(vector)\n",
    "        if np.all(abs(diff) <= tolerance):\n",
    "            break\n",
    "        vector += diff\n",
    "    return vector \n",
    "    "
   ]
  },
  {
   "cell_type": "code",
   "execution_count": 3,
   "metadata": {},
   "outputs": [
    {
     "name": "stdout",
     "output_type": "stream",
     "text": [
      "7.136238463529802e-05\n"
     ]
    }
   ],
   "source": [
    "start = 5.0\n",
    "learn_rate =0.1\n",
    "n_iter = 50\n",
    "tolerance = 1e-6\n",
    "result = gradient_descent(gradient,start,learn_rate , n_iter,tolerance)\n",
    "print(result)"
   ]
  }
 ],
 "metadata": {
  "kernelspec": {
   "display_name": "Python 3",
   "language": "python",
   "name": "python3"
  },
  "language_info": {
   "codemirror_mode": {
    "name": "ipython",
    "version": 3
   },
   "file_extension": ".py",
   "mimetype": "text/x-python",
   "name": "python",
   "nbconvert_exporter": "python",
   "pygments_lexer": "ipython3",
   "version": "3.11.9"
  }
 },
 "nbformat": 4,
 "nbformat_minor": 2
}
